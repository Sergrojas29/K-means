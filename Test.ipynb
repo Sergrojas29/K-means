{
 "cells": [
  {
   "cell_type": "code",
   "execution_count": 1,
   "metadata": {},
   "outputs": [],
   "source": [
    "%matplotlib inline\n",
    "from sklearn.datasets import make_blobs\n",
    "from sklearn.model_selection import train_test_split\n",
    "import matplotlib.pyplot as plt\n",
    "import random\n",
    "import numpy as np\n",
    "from sklearn.metrics.pairwise import euclidean_distances"
   ]
  },
  {
   "cell_type": "code",
   "execution_count": 57,
   "metadata": {},
   "outputs": [],
   "source": [
    "X,y = make_blobs(n_samples= 10, n_features=2, centers= 5,cluster_std= 1.75, shuffle=False, random_state=5622)"
   ]
  },
  {
   "cell_type": "code",
   "execution_count": 62,
   "metadata": {},
   "outputs": [
    {
     "data": {
      "image/png": "[encoded data removed]",
      "text/plain": [
       "<Figure size 640x480 with 1 Axes>"
      ]
     },
     "metadata": {},
     "output_type": "display_data"
    }
   ],
   "source": [
    "plt.title(\"Test_blobs\")\n",
    "plt.scatter(X[:,0],X[:,1], c=y)\n",
    "plt.show()\n",
    "\n",
    "k = 3"
   ]
  },
  {
   "cell_type": "code",
   "execution_count": 63,
   "metadata": {},
   "outputs": [
    {
     "name": "stdout",
     "output_type": "stream",
     "text": [
      "[4 1 8]\n"
     ]
    }
   ],
   "source": [
    "indices = np.random.choice(X.shape[0], k, replace = False)\n",
    "\n",
    "print(indices)"
   ]
  },
  {
   "cell_type": "code",
   "execution_count": 75,
   "metadata": {},
   "outputs": [
    {
     "name": "stdout",
     "output_type": "stream",
     "text": [
      "[[ -0.6901407   -4.61497831]\n",
      " [ -1.73905245  -8.11549596]\n",
      " [  1.19251648   5.14313508]\n",
      " [  0.94557764   6.00249942]\n",
      " [ -2.41632853 -10.03290695]\n",
      " [ -4.71891174  -7.1413969 ]\n",
      " [  6.72522507  -4.13963365]\n",
      " [  5.78727032  -1.90886027]\n",
      " [ -8.50319416 -13.22395026]\n",
      " [ -7.21109223  -8.11856494]]\n"
     ]
    }
   ],
   "source": [
    "print(X)"
   ]
  },
  {
   "cell_type": "code",
   "execution_count": 65,
   "metadata": {},
   "outputs": [
    {
     "name": "stdout",
     "output_type": "stream",
     "text": [
      "[[ 6.72522507 -4.13963365]\n",
      " [ 0.94557764  6.00249942]\n",
      " [-4.71891174 -7.1413969 ]]\n"
     ]
    }
   ],
   "source": [
    "indexs = np.random.choice( X.shape[0], k, replace= False) #False was added to prevent choosing the same index\n",
    "\n",
    "centroids = X[indexs]     \n",
    "\n",
    "print(centroids)\n",
    "\n"
   ]
  },
  {
   "cell_type": "code",
   "execution_count": 123,
   "metadata": {},
   "outputs": [
    {
     "name": "stdout",
     "output_type": "stream",
     "text": [
      "0\n",
      "1\n",
      "2\n",
      "[[ 7.43058558 10.74273745  4.75539557]\n",
      " [ 9.35154934 14.37097883  3.13503275]\n",
      " [10.80651006  0.89413973 13.63285406]\n",
      " [11.67335375  0.         14.31252775]\n",
      " [10.87651932 16.38403707  3.69631165]\n",
      " [11.83126578 14.31252775  0.        ]\n",
      " [ 0.         11.67335375 11.83126578]\n",
      " [ 2.41993987  9.27532211 11.73709083]\n",
      " [17.73216175 21.42278357  7.16367564]\n",
      " [14.49319958 16.30753574  2.67690511]]\n"
     ]
    }
   ],
   "source": [
    "Dm = np.zeros((X.shape[0], 3))\n",
    "\n",
    "\n",
    "for j in range(Dm.shape[1]):\n",
    "    print(j)\n",
    "    for i in range(X.shape[0]):\n",
    "        dist = np.linalg.norm(centroids[j]-X[i])\n",
    "        Dm[i][j] = dist   \n",
    "        \n",
    "\n",
    "print(Dm)\n",
    "\n"
   ]
  },
  {
   "cell_type": "code",
   "execution_count": 132,
   "metadata": {},
   "outputs": [
    {
     "name": "stdout",
     "output_type": "stream",
     "text": [
      "[2. 2. 1. 1. 2. 2. 0. 0. 2. 2.]\n"
     ]
    }
   ],
   "source": [
    "assignments = np.zeros((Dm.shape[0],))\n",
    "\n",
    "for i in range(Dm.shape[0]):\n",
    "    assignments[i] = np.argmin(Dm[i])\n",
    "    # testArray = Dm[i]\n",
    "    # lowest_Value = min(testArray)\n",
    "    # assignments[i] = np.where(testArray == lowest_Value)[0][0]\n",
    "\n",
    "print(assignments)\n",
    "# print(Dm.shape[0])\n",
    "\n"
   ]
  },
  {
   "cell_type": "code",
   "execution_count": null,
   "metadata": {},
   "outputs": [
    {
     "name": "stdout",
     "output_type": "stream",
     "text": [
      "[[ 6.72522507 -4.13963365]\n",
      " [ 5.78727032 -1.90886027]]\n",
      "[[1.19251648 5.14313508]\n",
      " [0.94557764 6.00249942]]\n",
      "[[ -0.6901407   -4.61497831]\n",
      " [ -1.73905245  -8.11549596]\n",
      " [ -2.41632853 -10.03290695]\n",
      " [ -4.71891174  -7.1413969 ]\n",
      " [ -8.50319416 -13.22395026]\n",
      " [ -7.21109223  -8.11856494]]\n"
     ]
    }
   ],
   "source": [
    "centroids = np.zeros((k, X.shape[1]))\n",
    "\n",
    "# print(centroids)\n",
    "\n",
    "# for j in range(k):\n",
    "#     testarray = np.array([])\n",
    "#     for i in range(X.shape[0]):\n",
    "#         if(assignments[] == j):\n",
    "#             np.append(testarray, X[i])\n",
    "    # testarray.mean(axis=1)\n",
    "    # testarray.mean(axis=0)\n",
    "    # print(testarray)\n",
    "    # centroids[j] = testarray\n",
    "\n",
    "# for j in range(k):\n",
    "#     testarray = np.zeros((X.shape[0],X.shape[1]))\n",
    "#     for i in range(X.shape[0]):\n",
    "#         if(assignments[i] == j):\n",
    "#             testarray[i] = X[i]\n",
    "#             # print(new)\n",
    "#     re =testarray.mean(axis=0)\n",
    "#     de =testarray.mean(axis=1)\n",
    "    \n",
    "#     # print(re)\n",
    "#     print(de)\n",
    "    \n",
    "#     # testarray.mean(axis=0)\n",
    "#     # testarray.mean(axis=1)\n",
    "#     print(testarray)\n",
    "        \n",
    "for i in range(k):\n",
    "    cluster_p = X[assignments == i]\n",
    "    print(cluster_p)\n",
    "    \n",
    "# print(centroids)\n"
   ]
  }
 ],
 "metadata": {
  "kernelspec": {
   "display_name": "SCILEARN-KERNEL",
   "language": "python",
   "name": "scilearn-kernel"
  },
  "language_info": {
   "codemirror_mode": {
    "name": "ipython",
    "version": 3
   },
   "file_extension": ".py",
   "mimetype": "text/x-python",
   "name": "python",
   "nbconvert_exporter": "python",
   "pygments_lexer": "ipython3",
   "version": "3.12.2"
  }
 },
 "nbformat": 4,
 "nbformat_minor": 2
}
